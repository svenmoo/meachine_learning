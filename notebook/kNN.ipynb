{
 "cells": [
  {
   "cell_type": "markdown",
   "metadata": {},
   "source": [
    "# k近邻算法"
   ]
  },
  {
   "cell_type": "code",
   "execution_count": 2,
   "metadata": {},
   "outputs": [],
   "source": [
    "import numpy as np\n",
    "import matplotlib.pyplot as plt"
   ]
  },
  {
   "cell_type": "code",
   "execution_count": 3,
   "metadata": {},
   "outputs": [],
   "source": [
    "np.random.normal?\n"
   ]
  },
  {
   "cell_type": "code",
   "execution_count": 4,
   "metadata": {},
   "outputs": [
    {
     "data": {
      "text/plain": [
       "array([[ 0.95655304,  0.4565384 ,  2.77582904,  5.9319639 ,  2.66877351,\n",
       "         2.77177432, -1.46238984,  2.84920029,  0.92020971,  3.56912793],\n",
       "       [ 3.60332556,  1.07715782,  2.43799949, -2.02320937,  0.99627722,\n",
       "         2.91221853, -1.08438128,  3.12888369, -0.70179787,  3.55223191]])"
      ]
     },
     "execution_count": 4,
     "metadata": {},
     "output_type": "execute_result"
    }
   ],
   "source": [
    "raw_data_x = np.random.normal(2.0, 2.5, (2, 10))\n",
    "raw_data_x"
   ]
  },
  {
   "cell_type": "code",
   "execution_count": 6,
   "metadata": {},
   "outputs": [
    {
     "data": {
      "text/plain": [
       "array([[ 7.80420965, -2.49331022],\n",
       "       [-1.84723891,  0.10934694],\n",
       "       [ 0.70809437,  2.09585716],\n",
       "       [ 2.3406145 , -0.93488603],\n",
       "       [ 1.56255093,  2.02388012],\n",
       "       [ 5.86910927, -2.6650869 ],\n",
       "       [ 4.60684472,  2.80822872],\n",
       "       [-0.97018092,  2.99315471],\n",
       "       [-2.63392173,  2.56574324],\n",
       "       [ 3.99670448,  9.98993915]])"
      ]
     },
     "execution_count": 6,
     "metadata": {},
     "output_type": "execute_result"
    }
   ],
   "source": [
    "raw_data_x = np.random.normal(5.0, 5.5, (10,2))\n",
    "raw_data_x"
   ]
  },
  {
   "cell_type": "code",
   "execution_count": 20,
   "metadata": {},
   "outputs": [
    {
     "data": {
      "text/plain": [
       "array([ 7.80420965, -1.84723891,  0.70809437,  2.3406145 ,  1.56255093,\n",
       "        5.86910927,  4.60684472, -0.97018092, -2.63392173,  3.99670448])"
      ]
     },
     "execution_count": 20,
     "metadata": {},
     "output_type": "execute_result"
    }
   ],
   "source": [
    "x = raw_data_x[:,:1].reshape([10,])\n",
    "x"
   ]
  },
  {
   "cell_type": "code",
   "execution_count": 34,
   "metadata": {},
   "outputs": [
    {
     "data": {
      "text/plain": [
       "array([[ 7.80420965],\n",
       "       [-1.84723891],\n",
       "       [ 0.70809437],\n",
       "       [ 2.3406145 ],\n",
       "       [ 1.56255093],\n",
       "       [ 5.86910927],\n",
       "       [ 4.60684472],\n",
       "       [-0.97018092],\n",
       "       [-2.63392173],\n",
       "       [ 3.99670448]])"
      ]
     },
     "execution_count": 34,
     "metadata": {},
     "output_type": "execute_result"
    }
   ],
   "source": [
    "x,y = np.hsplit(raw_data_x, 2)\n",
    "x"
   ]
  },
  {
   "cell_type": "code",
   "execution_count": 35,
   "metadata": {},
   "outputs": [
    {
     "data": {
      "image/png": "[encoded data removed]",
      "text/plain": [
       "<Figure size 432x288 with 1 Axes>"
      ]
     },
     "metadata": {
      "needs_background": "light"
     },
     "output_type": "display_data"
    }
   ],
   "source": [
    "plt.scatter(x, y, alpha=0.3)\n",
    "plt.show()"
   ]
  },
  {
   "cell_type": "code",
   "execution_count": 47,
   "metadata": {},
   "outputs": [
    {
     "data": {
      "text/plain": [
       "array([1, 0, 0, 0, 0, 0, 1, 0, 0, 1])"
      ]
     },
     "execution_count": 47,
     "metadata": {},
     "output_type": "execute_result"
    }
   ],
   "source": [
    "raw_data_y = ((x + y >5)+0)[:, 0]\n",
    "raw_data_y"
   ]
  },
  {
   "cell_type": "code",
   "execution_count": 39,
   "metadata": {},
   "outputs": [
    {
     "data": {
      "text/plain": [
       "array([[ 7.80420965, -2.49331022],\n",
       "       [-1.84723891,  0.10934694],\n",
       "       [ 0.70809437,  2.09585716],\n",
       "       [ 2.3406145 , -0.93488603],\n",
       "       [ 1.56255093,  2.02388012],\n",
       "       [ 5.86910927, -2.6650869 ],\n",
       "       [ 4.60684472,  2.80822872],\n",
       "       [-0.97018092,  2.99315471],\n",
       "       [-2.63392173,  2.56574324],\n",
       "       [ 3.99670448,  9.98993915]])"
      ]
     },
     "execution_count": 39,
     "metadata": {},
     "output_type": "execute_result"
    }
   ],
   "source": [
    "x_train = raw_data_x\n",
    "x_train"
   ]
  },
  {
   "cell_type": "code",
   "execution_count": 48,
   "metadata": {},
   "outputs": [
    {
     "data": {
      "text/plain": [
       "array([1, 0, 0, 0, 0, 0, 1, 0, 0, 1])"
      ]
     },
     "execution_count": 48,
     "metadata": {},
     "output_type": "execute_result"
    }
   ],
   "source": [
    "y_train = raw_data_y\n",
    "y_train"
   ]
  },
  {
   "cell_type": "code",
   "execution_count": 52,
   "metadata": {},
   "outputs": [
    {
     "data": {
      "text/plain": [
       "array([-1.84723891,  0.70809437,  2.3406145 ,  1.56255093,  5.86910927,\n",
       "       -0.97018092, -2.63392173])"
      ]
     },
     "execution_count": 52,
     "metadata": {},
     "output_type": "execute_result"
    }
   ],
   "source": [
    "x_train[y_train==0, 0]"
   ]
  },
  {
   "cell_type": "code",
   "execution_count": 53,
   "metadata": {},
   "outputs": [
    {
     "data": {
      "image/png": "[encoded data removed]",
      "text/plain": [
       "<Figure size 432x288 with 1 Axes>"
      ]
     },
     "metadata": {
      "needs_background": "light"
     },
     "output_type": "display_data"
    }
   ],
   "source": [
    "plt.scatter(x_train[y_train==0, 0], x_train[y_train==0, 1], c='r')\n",
    "plt.scatter(x_train[y_train==1, 0], x_train[y_train==1, 1], c='g')\n",
    "plt.show()"
   ]
  },
  {
   "cell_type": "code",
   "execution_count": 54,
   "metadata": {},
   "outputs": [],
   "source": [
    "x = np.array([8,6])"
   ]
  },
  {
   "cell_type": "code",
   "execution_count": 56,
   "metadata": {},
   "outputs": [
    {
     "data": {
      "image/png": "[encoded data removed]",
      "text/plain": [
       "<Figure size 432x288 with 1 Axes>"
      ]
     },
     "metadata": {
      "needs_background": "light"
     },
     "output_type": "display_data"
    }
   ],
   "source": [
    "x = np.array([8,6])\n",
    "plt.scatter(x_train[y_train==0, 0], x_train[y_train==0, 1], c='r')\n",
    "plt.scatter(x_train[y_train==1, 0], x_train[y_train==1, 1], c='g')\n",
    "plt.scatter(x[0], x[1], c='b')\n",
    "plt.show()"
   ]
  },
  {
   "cell_type": "code",
   "execution_count": 58,
   "metadata": {},
   "outputs": [
    {
     "data": {
      "text/plain": [
       "array([[ 7.80420965, -2.49331022],\n",
       "       [-1.84723891,  0.10934694],\n",
       "       [ 0.70809437,  2.09585716],\n",
       "       [ 2.3406145 , -0.93488603],\n",
       "       [ 1.56255093,  2.02388012],\n",
       "       [ 5.86910927, -2.6650869 ],\n",
       "       [ 4.60684472,  2.80822872],\n",
       "       [-0.97018092,  2.99315471],\n",
       "       [-2.63392173,  2.56574324],\n",
       "       [ 3.99670448,  9.98993915]])"
      ]
     },
     "execution_count": 58,
     "metadata": {},
     "output_type": "execute_result"
    }
   ],
   "source": [
    "x_train\n"
   ]
  },
  {
   "cell_type": "code",
   "execution_count": 59,
   "metadata": {},
   "outputs": [
    {
     "data": {
      "text/plain": [
       "array([[ -0.19579035,  -8.49331022],\n",
       "       [ -9.84723891,  -5.89065306],\n",
       "       [ -7.29190563,  -3.90414284],\n",
       "       [ -5.6593855 ,  -6.93488603],\n",
       "       [ -6.43744907,  -3.97611988],\n",
       "       [ -2.13089073,  -8.6650869 ],\n",
       "       [ -3.39315528,  -3.19177128],\n",
       "       [ -8.97018092,  -3.00684529],\n",
       "       [-10.63392173,  -3.43425676],\n",
       "       [ -4.00329552,   3.98993915]])"
      ]
     },
     "execution_count": 59,
     "metadata": {},
     "output_type": "execute_result"
    }
   ],
   "source": [
    "x_train-x\n"
   ]
  },
  {
   "cell_type": "code",
   "execution_count": 62,
   "metadata": {},
   "outputs": [
    {
     "data": {
      "text/plain": [
       "array([[3.83338619e-02, 7.21363184e+01],\n",
       "       [9.69681141e+01, 3.46997935e+01],\n",
       "       [5.31718878e+01, 1.52423313e+01],\n",
       "       [3.20286442e+01, 4.80926442e+01],\n",
       "       [4.14407506e+01, 1.58095293e+01],\n",
       "       [4.54069532e+00, 7.50837310e+01],\n",
       "       [1.15135027e+01, 1.01874039e+01],\n",
       "       [8.04641457e+01, 9.04111860e+00],\n",
       "       [1.13080291e+02, 1.17941195e+01],\n",
       "       [1.60263751e+01, 1.59196144e+01]])"
      ]
     },
     "execution_count": 62,
     "metadata": {},
     "output_type": "execute_result"
    }
   ],
   "source": [
    "t = (x_train-x)**2\n",
    "t"
   ]
  },
  {
   "cell_type": "code",
   "execution_count": 63,
   "metadata": {},
   "outputs": [],
   "source": [
    "from math import sqrt"
   ]
  },
  {
   "cell_type": "code",
   "execution_count": 72,
   "metadata": {},
   "outputs": [
    {
     "data": {
      "text/plain": [
       "array([ 72.17465228, 131.66790756,  68.41421906,  80.12128842,\n",
       "        57.25027988,  79.62442635,  21.70090665,  89.50526428,\n",
       "       124.87441088,  31.94598949])"
      ]
     },
     "execution_count": 72,
     "metadata": {},
     "output_type": "execute_result"
    }
   ],
   "source": [
    "t[:,0]+t[:,1]"
   ]
  },
  {
   "cell_type": "code",
   "execution_count": 73,
   "metadata": {},
   "outputs": [
    {
     "data": {
      "text/plain": [
       "array([ 72.17465228, 131.66790756,  68.41421906,  80.12128842,\n",
       "        57.25027988,  79.62442635,  21.70090665,  89.50526428,\n",
       "       124.87441088,  31.94598949])"
      ]
     },
     "execution_count": 73,
     "metadata": {},
     "output_type": "execute_result"
    }
   ],
   "source": [
    "np.sum(t, axis=1)"
   ]
  },
  {
   "cell_type": "code",
   "execution_count": 76,
   "metadata": {},
   "outputs": [
    {
     "data": {
      "text/plain": [
       "array([ 8.49556662, 11.47466372,  8.27128884,  8.95104957,  7.56639147,\n",
       "        8.92325201,  4.65842319,  9.46072219, 11.17472196,  5.65207833])"
      ]
     },
     "execution_count": 76,
     "metadata": {},
     "output_type": "execute_result"
    }
   ],
   "source": [
    "distince = np.sqrt(np.sum(t, axis=1))\n",
    "distince"
   ]
  },
  {
   "cell_type": "code",
   "execution_count": 79,
   "metadata": {},
   "outputs": [
    {
     "data": {
      "text/plain": [
       "array([6, 9, 4, 2, 0, 5, 3, 7, 8, 1], dtype=int64)"
      ]
     },
     "execution_count": 79,
     "metadata": {},
     "output_type": "execute_result"
    }
   ],
   "source": [
    "nearest = np.argsort(distince)\n",
    "nearest"
   ]
  },
  {
   "cell_type": "code",
   "execution_count": 80,
   "metadata": {},
   "outputs": [],
   "source": [
    "k = 4"
   ]
  },
  {
   "cell_type": "code",
   "execution_count": 83,
   "metadata": {},
   "outputs": [
    {
     "data": {
      "text/plain": [
       "[1, 1, 0, 0, 1]"
      ]
     },
     "execution_count": 83,
     "metadata": {},
     "output_type": "execute_result"
    }
   ],
   "source": [
    "k = 5\n",
    "topK_y = [y_train[i] for i in nearest[:k]]\n",
    "topK_y"
   ]
  },
  {
   "cell_type": "code",
   "execution_count": 84,
   "metadata": {},
   "outputs": [
    {
     "data": {
      "text/plain": [
       "Counter({1: 3, 0: 2})"
      ]
     },
     "execution_count": 84,
     "metadata": {},
     "output_type": "execute_result"
    }
   ],
   "source": [
    "from collections import Counter\n",
    "votes = Counter(topK_y)\n",
    "votes"
   ]
  },
  {
   "cell_type": "code",
   "execution_count": 100,
   "metadata": {},
   "outputs": [
    {
     "data": {
      "text/plain": [
       "1"
      ]
     },
     "execution_count": 100,
     "metadata": {},
     "output_type": "execute_result"
    }
   ],
   "source": [
    "result = votes.most_common(1)[0][0]\n",
    "result"
   ]
  },
  {
   "cell_type": "code",
   "execution_count": 106,
   "metadata": {},
   "outputs": [
    {
     "ename": "TypeError",
     "evalue": "'builtin_function_or_method' object is not iterable",
     "output_type": "error",
     "traceback": [
      "\u001b[1;31m---------------------------------------------------------------------------\u001b[0m",
      "\u001b[1;31mTypeError\u001b[0m                                 Traceback (most recent call last)",
      "\u001b[1;32m<ipython-input-106-af4c779d0b6d>\u001b[0m in \u001b[0;36m<module>\u001b[1;34m\u001b[0m\n\u001b[1;32m----> 1\u001b[1;33m \u001b[1;33m[\u001b[0m \u001b[1;33m(\u001b[0m\u001b[1;34m\"label:\"\u001b[0m\u001b[1;33m+\u001b[0m\u001b[0mi\u001b[0m\u001b[1;33m+\u001b[0m\u001b[1;34m\",res:\"\u001b[0m \u001b[1;33m+\u001b[0m \u001b[1;33m(\u001b[0m\u001b[0mvotes\u001b[0m\u001b[1;33m[\u001b[0m\u001b[0mi\u001b[0m\u001b[1;33m]\u001b[0m\u001b[1;33m/\u001b[0m\u001b[0mk\u001b[0m\u001b[1;33m)\u001b[0m\u001b[1;33m)\u001b[0m \u001b[1;32mfor\u001b[0m \u001b[0mi\u001b[0m \u001b[1;32min\u001b[0m \u001b[0mvotes\u001b[0m\u001b[1;33m.\u001b[0m\u001b[0mkeys\u001b[0m\u001b[1;33m]\u001b[0m\u001b[1;33m\u001b[0m\u001b[1;33m\u001b[0m\u001b[0m\n\u001b[0m",
      "\u001b[1;31mTypeError\u001b[0m: 'builtin_function_or_method' object is not iterable"
     ]
    }
   ],
   "source": [
    "[ (\"label:\"+i+\",res:\" + (votes[i]/k)) for i in votes.keys]"
   ]
  },
  {
   "cell_type": "code",
   "execution_count": 121,
   "metadata": {},
   "outputs": [
    {
     "name": "stdout",
     "output_type": "stream",
     "text": [
      "2key\n"
     ]
    }
   ],
   "source": [
    "print (str(votes[0]) + \"key\")"
   ]
  },
  {
   "cell_type": "code",
   "execution_count": 126,
   "metadata": {
    "scrolled": true
   },
   "outputs": [
    {
     "name": "stdout",
     "output_type": "stream",
     "text": [
      "key:1,result:0.6\n",
      "key:0,result:0.4\n"
     ]
    }
   ],
   "source": [
    "for key in votes.keys():\n",
    "#    print(\"key:\" + str(votes[key]))\n",
    "    print (\"key:\" + str(key) + \",result:\" + str(votes[key]/5))"
   ]
  },
  {
   "cell_type": "code",
   "execution_count": null,
   "metadata": {},
   "outputs": [],
   "source": []
  }
 ],
 "metadata": {
  "kernelspec": {
   "display_name": "Python 3",
   "language": "python",
   "name": "python3"
  },
  "language_info": {
   "codemirror_mode": {
    "name": "ipython",
    "version": 3
   },
   "file_extension": ".py",
   "mimetype": "text/x-python",
   "name": "python",
   "nbconvert_exporter": "python",
   "pygments_lexer": "ipython3",
   "version": "3.7.1"
  }
 },
 "nbformat": 4,
 "nbformat_minor": 2
}
