{
 "cells": [
  {
   "cell_type": "markdown",
   "metadata": {},
   "source": [
    "# k近邻算法"
   ]
  },
  {
   "cell_type": "code",
   "execution_count": 1,
   "metadata": {},
   "outputs": [],
   "source": [
    "import numpy as np\n",
    "import matplotlib.pyplot as plt"
   ]
  },
  {
   "cell_type": "code",
   "execution_count": 2,
   "metadata": {},
   "outputs": [],
   "source": [
    "np.random.normal?\n"
   ]
  },
  {
   "cell_type": "code",
   "execution_count": 3,
   "metadata": {},
   "outputs": [
    {
     "data": {
      "text/plain": [
       "array([[ 0.55515589, -3.11063948,  4.53443705,  3.83533385,  5.67833271,\n",
       "         3.1570795 ,  3.3155644 ,  1.2266869 ,  1.89876193, -0.17614585],\n",
       "       [ 3.36792865,  1.75853843,  5.73503508,  4.41407972, -0.45317489,\n",
       "        -0.16950003,  3.19658647,  1.68330335,  2.48458818, -1.37557986]])"
      ]
     },
     "execution_count": 3,
     "metadata": {},
     "output_type": "execute_result"
    }
   ],
   "source": [
    "raw_data_x = np.random.normal(2.0, 2.5, (2, 10))\n",
    "raw_data_x"
   ]
  },
  {
   "cell_type": "code",
   "execution_count": 4,
   "metadata": {},
   "outputs": [
    {
     "data": {
      "text/plain": [
       "array([[ 3.93272369,  1.13088257],\n",
       "       [ 1.88618326, 13.9801054 ],\n",
       "       [ 0.16382862,  3.91060178],\n",
       "       [-8.27691158, -5.93512496],\n",
       "       [14.55837489,  0.36312529],\n",
       "       [-4.1356258 ,  6.06640201],\n",
       "       [-4.39572355,  3.11917079],\n",
       "       [ 2.55978755,  9.47129701],\n",
       "       [ 6.98018193,  4.98257416],\n",
       "       [ 8.0802628 , 11.5007937 ]])"
      ]
     },
     "execution_count": 4,
     "metadata": {},
     "output_type": "execute_result"
    }
   ],
   "source": [
    "raw_data_x = np.random.normal(5.0, 5.5, (10,2))\n",
    "raw_data_x"
   ]
  },
  {
   "cell_type": "code",
   "execution_count": 5,
   "metadata": {},
   "outputs": [
    {
     "data": {
      "text/plain": [
       "array([ 3.93272369,  1.88618326,  0.16382862, -8.27691158, 14.55837489,\n",
       "       -4.1356258 , -4.39572355,  2.55978755,  6.98018193,  8.0802628 ])"
      ]
     },
     "execution_count": 5,
     "metadata": {},
     "output_type": "execute_result"
    }
   ],
   "source": [
    "x = raw_data_x[:,:1].reshape([10,])\n",
    "x"
   ]
  },
  {
   "cell_type": "code",
   "execution_count": 6,
   "metadata": {},
   "outputs": [
    {
     "data": {
      "text/plain": [
       "array([[ 3.93272369],\n",
       "       [ 1.88618326],\n",
       "       [ 0.16382862],\n",
       "       [-8.27691158],\n",
       "       [14.55837489],\n",
       "       [-4.1356258 ],\n",
       "       [-4.39572355],\n",
       "       [ 2.55978755],\n",
       "       [ 6.98018193],\n",
       "       [ 8.0802628 ]])"
      ]
     },
     "execution_count": 6,
     "metadata": {},
     "output_type": "execute_result"
    }
   ],
   "source": [
    "x,y = np.hsplit(raw_data_x, 2)\n",
    "x"
   ]
  },
  {
   "cell_type": "code",
   "execution_count": 7,
   "metadata": {},
   "outputs": [
    {
     "data": {
      "image/png": "[encoded data removed]",
      "text/plain": [
       "<Figure size 432x288 with 1 Axes>"
      ]
     },
     "metadata": {
      "needs_background": "light"
     },
     "output_type": "display_data"
    }
   ],
   "source": [
    "plt.scatter(x, y, alpha=0.3)\n",
    "plt.show()"
   ]
  },
  {
   "cell_type": "code",
   "execution_count": 8,
   "metadata": {},
   "outputs": [
    {
     "data": {
      "text/plain": [
       "array([1, 1, 0, 0, 1, 0, 0, 1, 1, 1])"
      ]
     },
     "execution_count": 8,
     "metadata": {},
     "output_type": "execute_result"
    }
   ],
   "source": [
    "raw_data_y = ((x + y >5)+0)[:, 0]\n",
    "raw_data_y"
   ]
  },
  {
   "cell_type": "code",
   "execution_count": 9,
   "metadata": {},
   "outputs": [
    {
     "data": {
      "text/plain": [
       "array([[ 3.93272369,  1.13088257],\n",
       "       [ 1.88618326, 13.9801054 ],\n",
       "       [ 0.16382862,  3.91060178],\n",
       "       [-8.27691158, -5.93512496],\n",
       "       [14.55837489,  0.36312529],\n",
       "       [-4.1356258 ,  6.06640201],\n",
       "       [-4.39572355,  3.11917079],\n",
       "       [ 2.55978755,  9.47129701],\n",
       "       [ 6.98018193,  4.98257416],\n",
       "       [ 8.0802628 , 11.5007937 ]])"
      ]
     },
     "execution_count": 9,
     "metadata": {},
     "output_type": "execute_result"
    }
   ],
   "source": [
    "x_train = raw_data_x\n",
    "x_train"
   ]
  },
  {
   "cell_type": "code",
   "execution_count": 10,
   "metadata": {},
   "outputs": [
    {
     "data": {
      "text/plain": [
       "array([1, 1, 0, 0, 1, 0, 0, 1, 1, 1])"
      ]
     },
     "execution_count": 10,
     "metadata": {},
     "output_type": "execute_result"
    }
   ],
   "source": [
    "y_train = raw_data_y\n",
    "y_train"
   ]
  },
  {
   "cell_type": "code",
   "execution_count": 11,
   "metadata": {},
   "outputs": [
    {
     "data": {
      "text/plain": [
       "array([ 0.16382862, -8.27691158, -4.1356258 , -4.39572355])"
      ]
     },
     "execution_count": 11,
     "metadata": {},
     "output_type": "execute_result"
    }
   ],
   "source": [
    "x_train[y_train==0, 0]"
   ]
  },
  {
   "cell_type": "code",
   "execution_count": 12,
   "metadata": {},
   "outputs": [
    {
     "data": {
      "image/png": "[encoded data removed]",
      "text/plain": [
       "<Figure size 432x288 with 1 Axes>"
      ]
     },
     "metadata": {
      "needs_background": "light"
     },
     "output_type": "display_data"
    }
   ],
   "source": [
    "plt.scatter(x_train[y_train==0, 0], x_train[y_train==0, 1], c='r')\n",
    "plt.scatter(x_train[y_train==1, 0], x_train[y_train==1, 1], c='g')\n",
    "plt.show()"
   ]
  },
  {
   "cell_type": "code",
   "execution_count": 13,
   "metadata": {},
   "outputs": [],
   "source": [
    "x = np.array([8,6])"
   ]
  },
  {
   "cell_type": "code",
   "execution_count": 14,
   "metadata": {},
   "outputs": [
    {
     "data": {
      "image/png": "[encoded data removed]",
      "text/plain": [
       "<Figure size 432x288 with 1 Axes>"
      ]
     },
     "metadata": {
      "needs_background": "light"
     },
     "output_type": "display_data"
    }
   ],
   "source": [
    "x = np.array([8,6])\n",
    "plt.scatter(x_train[y_train==0, 0], x_train[y_train==0, 1], c='r')\n",
    "plt.scatter(x_train[y_train==1, 0], x_train[y_train==1, 1], c='g')\n",
    "plt.scatter(x[0], x[1], c='b')\n",
    "plt.show()"
   ]
  },
  {
   "cell_type": "code",
   "execution_count": 15,
   "metadata": {},
   "outputs": [
    {
     "data": {
      "text/plain": [
       "array([[ 3.93272369,  1.13088257],\n",
       "       [ 1.88618326, 13.9801054 ],\n",
       "       [ 0.16382862,  3.91060178],\n",
       "       [-8.27691158, -5.93512496],\n",
       "       [14.55837489,  0.36312529],\n",
       "       [-4.1356258 ,  6.06640201],\n",
       "       [-4.39572355,  3.11917079],\n",
       "       [ 2.55978755,  9.47129701],\n",
       "       [ 6.98018193,  4.98257416],\n",
       "       [ 8.0802628 , 11.5007937 ]])"
      ]
     },
     "execution_count": 15,
     "metadata": {},
     "output_type": "execute_result"
    }
   ],
   "source": [
    "x_train\n"
   ]
  },
  {
   "cell_type": "code",
   "execution_count": 16,
   "metadata": {},
   "outputs": [
    {
     "data": {
      "text/plain": [
       "array([[ -4.06727631,  -4.86911743],\n",
       "       [ -6.11381674,   7.9801054 ],\n",
       "       [ -7.83617138,  -2.08939822],\n",
       "       [-16.27691158, -11.93512496],\n",
       "       [  6.55837489,  -5.63687471],\n",
       "       [-12.1356258 ,   0.06640201],\n",
       "       [-12.39572355,  -2.88082921],\n",
       "       [ -5.44021245,   3.47129701],\n",
       "       [ -1.01981807,  -1.01742584],\n",
       "       [  0.0802628 ,   5.5007937 ]])"
      ]
     },
     "execution_count": 16,
     "metadata": {},
     "output_type": "execute_result"
    }
   ],
   "source": [
    "x_train-x\n"
   ]
  },
  {
   "cell_type": "code",
   "execution_count": 17,
   "metadata": {},
   "outputs": [
    {
     "data": {
      "text/plain": [
       "array([[1.65427366e+01, 2.37083045e+01],\n",
       "       [3.73787552e+01, 6.36820821e+01],\n",
       "       [6.14055820e+01, 4.36558491e+00],\n",
       "       [2.64937850e+02, 1.42447208e+02],\n",
       "       [4.30122812e+01, 3.17743565e+01],\n",
       "       [1.47273413e+02, 4.40922633e-03],\n",
       "       [1.53653962e+02, 8.29917692e+00],\n",
       "       [2.95959115e+01, 1.20499029e+01],\n",
       "       [1.04002890e+00, 1.03515534e+00],\n",
       "       [6.44211736e-03, 3.02587313e+01]])"
      ]
     },
     "execution_count": 17,
     "metadata": {},
     "output_type": "execute_result"
    }
   ],
   "source": [
    "t = (x_train-x)**2\n",
    "t"
   ]
  },
  {
   "cell_type": "code",
   "execution_count": 18,
   "metadata": {},
   "outputs": [],
   "source": [
    "from math import sqrt"
   ]
  },
  {
   "cell_type": "code",
   "execution_count": 36,
   "metadata": {},
   "outputs": [
    {
     "data": {
      "text/plain": [
       "array([ 40.25104108, 101.0608373 ,  65.77116686, 407.38505831,\n",
       "        74.78663767, 147.27782266, 161.95313919,  41.64581439,\n",
       "         2.07518423,  30.26517341])"
      ]
     },
     "execution_count": 36,
     "metadata": {},
     "output_type": "execute_result"
    }
   ],
   "source": [
    "np.sum(t, axis=1)"
   ]
  },
  {
   "cell_type": "code",
   "execution_count": 19,
   "metadata": {},
   "outputs": [
    {
     "data": {
      "text/plain": [
       "array([ 40.25104108, 101.0608373 ,  65.77116686, 407.38505831,\n",
       "        74.78663767, 147.27782266, 161.95313919,  41.64581439,\n",
       "         2.07518423,  30.26517341])"
      ]
     },
     "execution_count": 19,
     "metadata": {},
     "output_type": "execute_result"
    }
   ],
   "source": [
    "t[:,0]+t[:,1]"
   ]
  },
  {
   "cell_type": "code",
   "execution_count": 20,
   "metadata": {},
   "outputs": [
    {
     "data": {
      "text/plain": [
       "array([ 40.25104108, 101.0608373 ,  65.77116686, 407.38505831,\n",
       "        74.78663767, 147.27782266, 161.95313919,  41.64581439,\n",
       "         2.07518423,  30.26517341])"
      ]
     },
     "execution_count": 20,
     "metadata": {},
     "output_type": "execute_result"
    }
   ],
   "source": [
    "np.sum(t, axis=1)"
   ]
  },
  {
   "cell_type": "code",
   "execution_count": 21,
   "metadata": {},
   "outputs": [
    {
     "data": {
      "text/plain": [
       "array([ 6.34437082, 10.05290193,  8.10994247, 20.18378206,  8.64792678,\n",
       "       12.13580746, 12.72608106,  6.45335683,  1.44054998,  5.50137923])"
      ]
     },
     "execution_count": 21,
     "metadata": {},
     "output_type": "execute_result"
    }
   ],
   "source": [
    "distince = np.sqrt(np.sum(t, axis=1))\n",
    "distince"
   ]
  },
  {
   "cell_type": "code",
   "execution_count": 38,
   "metadata": {},
   "outputs": [],
   "source": [
    "np.linalg.norm?"
   ]
  },
  {
   "cell_type": "code",
   "execution_count": 39,
   "metadata": {},
   "outputs": [
    {
     "data": {
      "text/plain": [
       "array([ 6.34437082, 10.05290193,  8.10994247, 20.18378206,  8.64792678,\n",
       "       12.13580746, 12.72608106,  6.45335683,  1.44054998,  5.50137923])"
      ]
     },
     "execution_count": 39,
     "metadata": {},
     "output_type": "execute_result"
    }
   ],
   "source": [
    "np.linalg.norm(x_train-x, axis=1)"
   ]
  },
  {
   "cell_type": "code",
   "execution_count": 22,
   "metadata": {},
   "outputs": [
    {
     "data": {
      "text/plain": [
       "array([8, 9, 0, 7, 2, 4, 1, 5, 6, 3], dtype=int64)"
      ]
     },
     "execution_count": 22,
     "metadata": {},
     "output_type": "execute_result"
    }
   ],
   "source": [
    "nearest = np.argsort(distince)\n",
    "nearest"
   ]
  },
  {
   "cell_type": "code",
   "execution_count": 23,
   "metadata": {},
   "outputs": [],
   "source": [
    "k = 4"
   ]
  },
  {
   "cell_type": "code",
   "execution_count": 24,
   "metadata": {},
   "outputs": [
    {
     "data": {
      "text/plain": [
       "[1, 1, 1, 1, 0]"
      ]
     },
     "execution_count": 24,
     "metadata": {},
     "output_type": "execute_result"
    }
   ],
   "source": [
    "k = 5\n",
    "topK_y = [y_train[i] for i in nearest[:k]]\n",
    "topK_y"
   ]
  },
  {
   "cell_type": "code",
   "execution_count": 25,
   "metadata": {},
   "outputs": [
    {
     "data": {
      "text/plain": [
       "Counter({1: 4, 0: 1})"
      ]
     },
     "execution_count": 25,
     "metadata": {},
     "output_type": "execute_result"
    }
   ],
   "source": [
    "from collections import Counter\n",
    "votes = Counter(topK_y)\n",
    "votes"
   ]
  },
  {
   "cell_type": "code",
   "execution_count": 26,
   "metadata": {},
   "outputs": [
    {
     "data": {
      "text/plain": [
       "1"
      ]
     },
     "execution_count": 26,
     "metadata": {},
     "output_type": "execute_result"
    }
   ],
   "source": [
    "result = votes.most_common(1)[0][0]\n",
    "result"
   ]
  },
  {
   "cell_type": "code",
   "execution_count": 27,
   "metadata": {},
   "outputs": [
    {
     "ename": "TypeError",
     "evalue": "'builtin_function_or_method' object is not iterable",
     "output_type": "error",
     "traceback": [
      "\u001b[1;31m---------------------------------------------------------------------------\u001b[0m",
      "\u001b[1;31mTypeError\u001b[0m                                 Traceback (most recent call last)",
      "\u001b[1;32m<ipython-input-27-af4c779d0b6d>\u001b[0m in \u001b[0;36m<module>\u001b[1;34m\u001b[0m\n\u001b[1;32m----> 1\u001b[1;33m \u001b[1;33m[\u001b[0m \u001b[1;33m(\u001b[0m\u001b[1;34m\"label:\"\u001b[0m\u001b[1;33m+\u001b[0m\u001b[0mi\u001b[0m\u001b[1;33m+\u001b[0m\u001b[1;34m\",res:\"\u001b[0m \u001b[1;33m+\u001b[0m \u001b[1;33m(\u001b[0m\u001b[0mvotes\u001b[0m\u001b[1;33m[\u001b[0m\u001b[0mi\u001b[0m\u001b[1;33m]\u001b[0m\u001b[1;33m/\u001b[0m\u001b[0mk\u001b[0m\u001b[1;33m)\u001b[0m\u001b[1;33m)\u001b[0m \u001b[1;32mfor\u001b[0m \u001b[0mi\u001b[0m \u001b[1;32min\u001b[0m \u001b[0mvotes\u001b[0m\u001b[1;33m.\u001b[0m\u001b[0mkeys\u001b[0m\u001b[1;33m]\u001b[0m\u001b[1;33m\u001b[0m\u001b[1;33m\u001b[0m\u001b[0m\n\u001b[0m",
      "\u001b[1;31mTypeError\u001b[0m: 'builtin_function_or_method' object is not iterable"
     ]
    }
   ],
   "source": [
    "[ (\"label:\"+i+\",res:\" + (votes[i]/k)) for i in votes.keys]"
   ]
  },
  {
   "cell_type": "code",
   "execution_count": null,
   "metadata": {},
   "outputs": [],
   "source": [
    "print (str(votes[0]) + \"key\")"
   ]
  },
  {
   "cell_type": "code",
   "execution_count": null,
   "metadata": {
    "scrolled": true
   },
   "outputs": [],
   "source": [
    "for key in votes.keys():\n",
    "#    print(\"key:\" + str(votes[key]))\n",
    "    print (\"key:\" + str(key) + \",result:\" + str(votes[key]/5))"
   ]
  },
  {
   "cell_type": "code",
   "execution_count": null,
   "metadata": {},
   "outputs": [],
   "source": [
    "np.random.seed(1000)\n",
    "X = np.random.randint(1, 10, 50)\n",
    "X"
   ]
  },
  {
   "cell_type": "code",
   "execution_count": null,
   "metadata": {},
   "outputs": [],
   "source": [
    "np.bincount(X)"
   ]
  },
  {
   "cell_type": "code",
   "execution_count": 31,
   "metadata": {},
   "outputs": [
    {
     "data": {
      "text/plain": [
       "[1, 1, 1, 1, 0]"
      ]
     },
     "execution_count": 31,
     "metadata": {},
     "output_type": "execute_result"
    }
   ],
   "source": [
    "topK_y"
   ]
  },
  {
   "cell_type": "code",
   "execution_count": 32,
   "metadata": {},
   "outputs": [
    {
     "data": {
      "text/plain": [
       "array([1, 4], dtype=int64)"
      ]
     },
     "execution_count": 32,
     "metadata": {},
     "output_type": "execute_result"
    }
   ],
   "source": [
    "np.bincount(np.array(topK_y))"
   ]
  },
  {
   "cell_type": "code",
   "execution_count": 35,
   "metadata": {},
   "outputs": [
    {
     "data": {
      "text/plain": [
       "1"
      ]
     },
     "execution_count": 35,
     "metadata": {},
     "output_type": "execute_result"
    }
   ],
   "source": [
    "np.argmax(np.bincount(np.array(topK_y)))"
   ]
  },
  {
   "cell_type": "code",
   "execution_count": 49,
   "metadata": {},
   "outputs": [
    {
     "name": "stdout",
     "output_type": "stream",
     "text": [
      "[6 8 9]\n",
      "[白的]概率:[0.2608695652173913]\n",
      "[红的]概率:[0.34782608695652173]\n",
      "[绿的]概率:[0.391304347826087]\n"
     ]
    }
   ],
   "source": [
    "def print_weights(weights, labels = None):\n",
    "\n",
    "    total = sum(weights)\n",
    "\n",
    "    if labels is not None:\n",
    "        assert len(weights) == len(labels), \"the size of weights must equal to the size of labels\"\n",
    "\n",
    "        for i, val in enumerate(weights):\n",
    "            print(\"[%s]概率:[%s]\" % (labels[i], val/total))\n",
    "\n",
    "    else:\n",
    "        for i, val in enumerate(weights):\n",
    "            print(\"[%s]概率:[%s]\" % (i, val/total))\n",
    "            \n",
    "weights = np.random.randint(0, 10, 3)\n",
    "lables = ['白的', '红的', '绿的']\n",
    "print_weights(weights, lables)\n"
   ]
  },
  {
   "cell_type": "code",
   "execution_count": 57,
   "metadata": {},
   "outputs": [
    {
     "data": {
      "text/plain": [
       "array([[-0.24929642,  6.02804121],\n",
       "       [ 8.45910741,  4.24269189],\n",
       "       [ 7.94396236,  6.54265652],\n",
       "       [ 5.66353901,  1.78987001],\n",
       "       [ 4.43151251,  5.76500433],\n",
       "       [ 3.62591904,  6.30549046],\n",
       "       [ 3.24921485,  7.45054122],\n",
       "       [ 7.01816242,  4.68676657],\n",
       "       [ 3.40615887,  8.08919806],\n",
       "       [ 3.68559313,  1.64504526],\n",
       "       [ 9.85694498,  9.62481552],\n",
       "       [ 4.24436258,  2.47269279],\n",
       "       [ 5.55355607,  7.8112466 ],\n",
       "       [ 7.19300103,  9.08466838],\n",
       "       [ 4.02128582,  5.16702804],\n",
       "       [ 5.66719883,  0.67034901],\n",
       "       [ 2.73094308,  7.44936203],\n",
       "       [ 7.25133428,  3.63215922],\n",
       "       [ 8.5688668 , -0.07185048],\n",
       "       [ 0.93080285,  1.30269646],\n",
       "       [ 3.36668251,  2.99548479],\n",
       "       [ 5.02194369,  3.16118379],\n",
       "       [ 8.89924422, -0.19928687],\n",
       "       [ 2.0500697 ,  6.07252326],\n",
       "       [ 0.15926449,  9.4121416 ],\n",
       "       [ 1.43594721,  3.35076142],\n",
       "       [ 2.17986152,  2.51620291],\n",
       "       [ 5.3265904 ,  6.52342877],\n",
       "       [ 2.41331796,  8.74840923],\n",
       "       [ 4.76116626,  2.33080556],\n",
       "       [ 2.35460483,  5.05591685],\n",
       "       [ 5.71353387,  5.04064565],\n",
       "       [ 0.0934118 ,  1.86737037],\n",
       "       [ 6.83911665,  7.20861564],\n",
       "       [ 8.08076432,  0.70342817],\n",
       "       [-0.5235649 ,  6.09827968],\n",
       "       [ 4.00466859,  2.93234607],\n",
       "       [11.10382268,  3.34785676],\n",
       "       [ 7.25135999,  1.07902298],\n",
       "       [ 6.74172001,  1.68643072],\n",
       "       [ 7.07036441,  7.0606702 ],\n",
       "       [ 0.29993741,  7.71492236],\n",
       "       [ 7.3364672 ,  6.28469861],\n",
       "       [ 5.32661597,  5.0848509 ],\n",
       "       [ 3.26352253,  1.4016464 ],\n",
       "       [-0.11785602,  6.10749187],\n",
       "       [10.62972028,  3.86928995],\n",
       "       [10.49580825,  5.0090523 ],\n",
       "       [ 4.7719296 ,  5.01187278],\n",
       "       [ 4.44495767, -2.46145461]])"
      ]
     },
     "execution_count": 57,
     "metadata": {},
     "output_type": "execute_result"
    }
   ],
   "source": [
    "np.random.seed(100)\n",
    "train = np.random.normal(5, 3, 100).reshape(-1, 2)\n",
    "train"
   ]
  },
  {
   "cell_type": "code",
   "execution_count": 60,
   "metadata": {},
   "outputs": [
    {
     "data": {
      "text/plain": [
       "array([0, 1, 1, 0, 1, 1, 1, 1, 1, 0, 1, 0, 1, 1, 1, 0, 1, 1, 1, 0, 0, 1,\n",
       "       1, 1, 1, 0, 0, 1, 1, 0, 0, 1, 0, 1, 1, 0, 0, 1, 1, 1, 1, 1, 1, 1,\n",
       "       0, 0, 1, 1, 1, 0])"
      ]
     },
     "execution_count": 60,
     "metadata": {},
     "output_type": "execute_result"
    }
   ],
   "source": [
    "dest = (np.sum(train, axis=1) > 8) + 0\n",
    "dest"
   ]
  },
  {
   "cell_type": "code",
   "execution_count": 61,
   "metadata": {},
   "outputs": [],
   "source": [
    "labels = [\"绿色\", \"红色\"]"
   ]
  },
  {
   "cell_type": "code",
   "execution_count": 69,
   "metadata": {},
   "outputs": [],
   "source": [
    "from mymlcode.lib import kNN_func as kfunc"
   ]
  },
  {
   "cell_type": "code",
   "execution_count": 84,
   "metadata": {},
   "outputs": [
    {
     "name": "stdout",
     "output_type": "stream",
     "text": [
      "[绿色]概率:[0.8333333333333334]\n",
      "[红色]概率:[0.16666666666666666]\n"
     ]
    }
   ],
   "source": [
    "k = 6\n",
    "v1 = np.array([2,4])\n",
    "res = kfunc.kNN_func(k, train, dest, v1, labels)"
   ]
  },
  {
   "cell_type": "code",
   "execution_count": 85,
   "metadata": {},
   "outputs": [],
   "source": [
    "from sklearn.neighbors import KNeighborsClassifier"
   ]
  },
  {
   "cell_type": "code",
   "execution_count": 87,
   "metadata": {},
   "outputs": [],
   "source": [
    "kNN_classifier = KNeighborsClassifier(n_neighbors=6)"
   ]
  },
  {
   "cell_type": "code",
   "execution_count": 88,
   "metadata": {},
   "outputs": [
    {
     "data": {
      "text/plain": [
       "KNeighborsClassifier(algorithm='auto', leaf_size=30, metric='minkowski',\n",
       "           metric_params=None, n_jobs=None, n_neighbors=6, p=2,\n",
       "           weights='uniform')"
      ]
     },
     "execution_count": 88,
     "metadata": {},
     "output_type": "execute_result"
    }
   ],
   "source": [
    "kNN_classifier.fit(train, dest)"
   ]
  },
  {
   "cell_type": "code",
   "execution_count": 94,
   "metadata": {},
   "outputs": [
    {
     "data": {
      "text/plain": [
       "1"
      ]
     },
     "execution_count": 94,
     "metadata": {},
     "output_type": "execute_result"
    }
   ],
   "source": [
    "v2 = np.array([[2,9]])\n",
    "kNN_classifier.predict(v2)[0]"
   ]
  },
  {
   "cell_type": "code",
   "execution_count": null,
   "metadata": {},
   "outputs": [],
   "source": []
  }
 ],
 "metadata": {
  "kernelspec": {
   "display_name": "Python 3",
   "language": "python",
   "name": "python3"
  },
  "language_info": {
   "codemirror_mode": {
    "name": "ipython",
    "version": 3
   },
   "file_extension": ".py",
   "mimetype": "text/x-python",
   "name": "python",
   "nbconvert_exporter": "python",
   "pygments_lexer": "ipython3",
   "version": "3.7.1"
  }
 },
 "nbformat": 4,
 "nbformat_minor": 2
}
